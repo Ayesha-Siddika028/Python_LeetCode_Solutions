{
 "cells": [
  {
   "cell_type": "markdown",
   "id": "7e7d6d1b",
   "metadata": {},
   "source": [
    "Maximum product of three numbers"
   ]
  },
  {
   "cell_type": "code",
   "execution_count": null,
   "id": "50bfb1f4",
   "metadata": {},
   "outputs": [],
   "source": [
    "class Solution:\n",
    "    def maximumProduct(self, nums: List[int]) -> int:\n",
    "        nums.sort(reverse =True)\n",
    "        a = nums[0] * nums[1] * nums[2]\n",
    "        b = nums[-1] * nums[-2] * nums[0]\n",
    "        return max([a,b])"
   ]
  },
  {
   "cell_type": "markdown",
   "id": "dd5134ca",
   "metadata": {},
   "source": [
    "Richest Customer Wealth"
   ]
  },
  {
   "cell_type": "code",
   "execution_count": null,
   "id": "ef64beea",
   "metadata": {},
   "outputs": [],
   "source": [
    "class Solution:\n",
    "    def maximumWealth(self, accounts: List[List[int]]) -> int:\n",
    "        return(max([sum(i) for i in accounts]))"
   ]
  },
  {
   "cell_type": "markdown",
   "id": "8d705c3f",
   "metadata": {},
   "source": [
    "Shuffle the array"
   ]
  },
  {
   "cell_type": "code",
   "execution_count": null,
   "id": "7c2751e4",
   "metadata": {},
   "outputs": [],
   "source": [
    "class Solution:\n",
    "    def shuffle(self, nums: List[int], n: int) -> List[int]:\n",
    "        k = []\n",
    "        for i in range (0,n):\n",
    "            k.append(nums[i])\n",
    "            k.append(nums[n+i])\n",
    "        return k"
   ]
  },
  {
   "cell_type": "markdown",
   "id": "9e59146c",
   "metadata": {},
   "source": [
    "Valid Perfect Square"
   ]
  },
  {
   "cell_type": "code",
   "execution_count": null,
   "id": "6234f34b",
   "metadata": {},
   "outputs": [],
   "source": [
    "class Solution:\n",
    "    def isPerfectSquare(self, num: int) -> bool:\n",
    "        return ((num**0.5) % 1 == 0)"
   ]
  }
 ],
 "metadata": {
  "kernelspec": {
   "display_name": "Python 3",
   "language": "python",
   "name": "python3"
  },
  "language_info": {
   "codemirror_mode": {
    "name": "ipython",
    "version": 3
   },
   "file_extension": ".py",
   "mimetype": "text/x-python",
   "name": "python",
   "nbconvert_exporter": "python",
   "pygments_lexer": "ipython3",
   "version": "3.8.8"
  }
 },
 "nbformat": 4,
 "nbformat_minor": 5
}
